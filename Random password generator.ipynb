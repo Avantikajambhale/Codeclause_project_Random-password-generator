{
 "cells": [
  {
   "cell_type": "code",
   "execution_count": null,
   "id": "2e59d845",
   "metadata": {},
   "outputs": [],
   "source": [
    "#random password generator\n",
    "import random\n",
    "lower = \"abcdefghijklmnopqrstuvwxyzABCDEFGHIJKLMNOPQRSTUVWXYZ0123456789!@#$%^&*().\"\n",
    " #upper = \"ABCDEFGHIJKLMNOPQRSTUVWXYZ\"\n",
    " #number = \"0123456789\"\n",
    " #symbol = \"!@#$%^&*().\"\n",
    " #string = lower + upper + number + symbol\n",
    "string = lower\n",
    "length = 16\n",
    "password = \"\".join(random.sample(string,length))\n",
    "print(\"Your new password is :\"+password)"
   ]
  }
 ],
 "metadata": {
  "kernelspec": {
   "display_name": "Python 3 (ipykernel)",
   "language": "python",
   "name": "python3"
  },
  "language_info": {
   "codemirror_mode": {
    "name": "ipython",
    "version": 3
   },
   "file_extension": ".py",
   "mimetype": "text/x-python",
   "name": "python",
   "nbconvert_exporter": "python",
   "pygments_lexer": "ipython3",
   "version": "3.9.13"
  }
 },
 "nbformat": 4,
 "nbformat_minor": 5
}
